{
  "nbformat": 4,
  "nbformat_minor": 0,
  "metadata": {
    "colab": {
      "name": "Data_Mergetable_Creation1.ipynb",
      "provenance": [],
      "collapsed_sections": []
    },
    "kernelspec": {
      "name": "python3",
      "display_name": "Python 3"
    },
    "language_info": {
      "name": "python"
    }
  },
  "cells": [
    {
      "cell_type": "code",
      "metadata": {
        "colab": {
          "base_uri": "https://localhost:8080/"
        },
        "id": "1wGUdLdAixN8",
        "outputId": "e8d1405f-5c58-4406-be24-ed215157a601"
      },
      "source": [
        "import os\n",
        "# Find the latest version of spark 3.0 from http://www.apache.org/dist/spark/ and enter as the spark version\n",
        "# For example:\n",
        "# spark_version = 'spark-3.0.3'\n",
        "spark_version = 'spark-3.0.3'\n",
        "os.environ['SPARK_VERSION']=spark_version\n",
        "\n",
        "# Install Spark and Java\n",
        "!apt-get update\n",
        "!apt-get install openjdk-11-jdk-headless -qq > /dev/null\n",
        "!wget -q http://www.apache.org/dist/spark/$SPARK_VERSION/$SPARK_VERSION-bin-hadoop2.7.tgz\n",
        "!tar xf $SPARK_VERSION-bin-hadoop2.7.tgz\n",
        "!pip install -q findspark\n",
        "\n",
        "# Set Environment Variables\n",
        "import os\n",
        "os.environ[\"JAVA_HOME\"] = \"/usr/lib/jvm/java-11-openjdk-amd64\"\n",
        "os.environ[\"SPARK_HOME\"] = f\"/content/{spark_version}-bin-hadoop2.7\"\n",
        "\n",
        "# Start a SparkSession\n",
        "import findspark\n",
        "findspark.init()"
      ],
      "execution_count": 1,
      "outputs": [
        {
          "output_type": "stream",
          "name": "stdout",
          "text": [
            "\r0% [Working]\r            \rGet:1 http://security.ubuntu.com/ubuntu bionic-security InRelease [88.7 kB]\n",
            "\r0% [Connecting to archive.ubuntu.com] [1 InRelease 0 B/88.7 kB 0%] [Connecting \r0% [Connecting to archive.ubuntu.com] [Connected to cloud.r-project.org (65.9.8\r0% [1 InRelease gpgv 88.7 kB] [Connecting to archive.ubuntu.com] [Connected to \r                                                                               \rGet:2 https://cloud.r-project.org/bin/linux/ubuntu bionic-cran40/ InRelease [3,626 B]\n",
            "\r0% [1 InRelease gpgv 88.7 kB] [Connecting to archive.ubuntu.com (91.189.88.142)\r0% [1 InRelease gpgv 88.7 kB] [Waiting for headers] [Waiting for headers] [Wait\r                                                                               \rGet:3 http://ppa.launchpad.net/c2d4u.team/c2d4u4.0+/ubuntu bionic InRelease [15.9 kB]\n",
            "\r0% [1 InRelease gpgv 88.7 kB] [Waiting for headers] [3 InRelease 2,572 B/15.9 k\r                                                                               \rHit:4 http://archive.ubuntu.com/ubuntu bionic InRelease\n",
            "\r0% [1 InRelease gpgv 88.7 kB] [Waiting for headers] [3 InRelease 14.2 kB/15.9 k\r0% [1 InRelease gpgv 88.7 kB] [Waiting for headers] [Connecting to ppa.launchpa\r                                                                               \rGet:5 http://archive.ubuntu.com/ubuntu bionic-updates InRelease [88.7 kB]\n",
            "\r0% [1 InRelease gpgv 88.7 kB] [5 InRelease 0 B/88.7 kB 0%] [Connecting to ppa.l\r                                                                               \rHit:6 http://ppa.launchpad.net/cran/libgit2/ubuntu bionic InRelease\n",
            "\r0% [1 InRelease gpgv 88.7 kB] [5 InRelease 47.5 kB/88.7 kB 54%] [Connecting to \r0% [1 InRelease gpgv 88.7 kB] [Waiting for headers] [Connecting to ppa.launchpa\r                                                                               \rGet:7 http://archive.ubuntu.com/ubuntu bionic-backports InRelease [74.6 kB]\n",
            "\r0% [1 InRelease gpgv 88.7 kB] [7 InRelease 20.0 kB/74.6 kB 27%] [Waiting for he\r                                                                               \rGet:8 http://ppa.launchpad.net/deadsnakes/ppa/ubuntu bionic InRelease [15.9 kB]\n",
            "\r0% [1 InRelease gpgv 88.7 kB] [7 InRelease 40.3 kB/74.6 kB 54%] [8 InRelease 2,\r0% [1 InRelease gpgv 88.7 kB] [8 InRelease 5,468 B/15.9 kB 34%] [Waiting for he\r0% [1 InRelease gpgv 88.7 kB] [Connecting to ppa.launchpad.net (91.189.95.85)] \r                                                                               \rHit:9 http://ppa.launchpad.net/graphics-drivers/ppa/ubuntu bionic InRelease\n",
            "Ign:10 https://developer.download.nvidia.com/compute/cuda/repos/ubuntu1804/x86_64  InRelease\n",
            "Ign:11 https://developer.download.nvidia.com/compute/machine-learning/repos/ubuntu1804/x86_64  InRelease\n",
            "Get:12 https://developer.download.nvidia.com/compute/cuda/repos/ubuntu1804/x86_64  Release [696 B]\n",
            "Hit:13 https://developer.download.nvidia.com/compute/machine-learning/repos/ubuntu1804/x86_64  Release\n",
            "Get:14 http://security.ubuntu.com/ubuntu bionic-security/universe amd64 Packages [1,442 kB]\n",
            "Get:15 https://developer.download.nvidia.com/compute/cuda/repos/ubuntu1804/x86_64  Release.gpg [836 B]\n",
            "Get:16 http://security.ubuntu.com/ubuntu bionic-security/restricted amd64 Packages [666 kB]\n",
            "Get:17 http://security.ubuntu.com/ubuntu bionic-security/multiverse amd64 Packages [26.8 kB]\n",
            "Get:18 http://security.ubuntu.com/ubuntu bionic-security/main amd64 Packages [2,430 kB]\n",
            "Get:19 https://cloud.r-project.org/bin/linux/ubuntu bionic-cran40/ Packages [73.0 kB]\n",
            "Get:20 http://ppa.launchpad.net/c2d4u.team/c2d4u4.0+/ubuntu bionic/main Sources [1,811 kB]\n",
            "Get:21 http://ppa.launchpad.net/c2d4u.team/c2d4u4.0+/ubuntu bionic/main amd64 Packages [928 kB]\n",
            "Get:22 http://archive.ubuntu.com/ubuntu bionic-updates/universe amd64 Packages [2,222 kB]\n",
            "Get:23 http://archive.ubuntu.com/ubuntu bionic-updates/restricted amd64 Packages [699 kB]\n",
            "Get:24 http://archive.ubuntu.com/ubuntu bionic-updates/multiverse amd64 Packages [34.4 kB]\n",
            "Get:25 http://archive.ubuntu.com/ubuntu bionic-updates/main amd64 Packages [2,867 kB]\n",
            "Get:26 http://ppa.launchpad.net/deadsnakes/ppa/ubuntu bionic/main amd64 Packages [45.9 kB]\n",
            "Get:28 https://developer.download.nvidia.com/compute/cuda/repos/ubuntu1804/x86_64  Packages [808 kB]\n",
            "Fetched 14.3 MB in 3s (4,297 kB/s)\n",
            "Reading package lists... Done\n"
          ]
        }
      ]
    },
    {
      "cell_type": "code",
      "metadata": {
        "colab": {
          "base_uri": "https://localhost:8080/"
        },
        "id": "TqYpwbP4i2zD",
        "outputId": "af6e9246-77d9-4cd9-c490-09f9cbe3fd86"
      },
      "source": [
        "# Download the Postgres driver that will allow Spark to interact with Postgres.\n",
        "!wget https://jdbc.postgresql.org/download/postgresql-42.2.16.jar"
      ],
      "execution_count": 2,
      "outputs": [
        {
          "output_type": "stream",
          "name": "stdout",
          "text": [
            "--2021-11-17 23:18:32--  https://jdbc.postgresql.org/download/postgresql-42.2.16.jar\n",
            "Resolving jdbc.postgresql.org (jdbc.postgresql.org)... 72.32.157.228, 2001:4800:3e1:1::228\n",
            "Connecting to jdbc.postgresql.org (jdbc.postgresql.org)|72.32.157.228|:443... connected.\n",
            "HTTP request sent, awaiting response... 200 OK\n",
            "Length: 1002883 (979K) [application/java-archive]\n",
            "Saving to: ‘postgresql-42.2.16.jar’\n",
            "\n",
            "postgresql-42.2.16. 100%[===================>] 979.38K  1.65MB/s    in 0.6s    \n",
            "\n",
            "2021-11-17 23:18:34 (1.65 MB/s) - ‘postgresql-42.2.16.jar’ saved [1002883/1002883]\n",
            "\n"
          ]
        }
      ]
    },
    {
      "cell_type": "code",
      "metadata": {
        "id": "fNFw69-bjB9O"
      },
      "source": [
        "from pyspark.sql import SparkSession\n",
        "spark = SparkSession.builder.appName(\"DatAnalyticsProject\").config(\"spark.driver.extraClassPath\",\"/content/postgresql-42.2.16.jar\").getOrCreate()"
      ],
      "execution_count": 3,
      "outputs": []
    },
    {
      "cell_type": "code",
      "metadata": {
        "colab": {
          "base_uri": "https://localhost:8080/"
        },
        "id": "dERZ-31qjEaS",
        "outputId": "f9674bad-30b8-4259-81ef-eee16355c604"
      },
      "source": [
        "from pyspark import SparkFiles\n",
        "m_url = \"https://dataanalyticsproject.s3.us-east-2.amazonaws.com/Merged_M5000.csv\"\n",
        "spark.sparkContext.addFile(m_url)\n",
        "Merged_M5000_df = spark.read.option(\"encoding\", \"UTF-8\").csv(SparkFiles.get(\"\"), sep=\",\", header=True, inferSchema=True)\n",
        "Merged_M5000_df .show(5)"
      ],
      "execution_count": 6,
      "outputs": [
        {
          "output_type": "stream",
          "name": "stdout",
          "text": [
            "+-----+---------+-----+---------+--------------------+------------+--------------------+----+-----------+-----------+\n",
            "|  _c0|Area_Code| Area|Item_Code|                Item|Element_Code|             Element|Year| Population|   Emission|\n",
            "+-----+---------+-----+---------+--------------------+------------+--------------------+----+-----------+-----------+\n",
            "|21795|     5000|World|     5058|Enteric Fermentation|        7225|     Emissions (CH4)|1990|5327231.061| 89059.6919|\n",
            "|21796|     5000|World|     5058|Enteric Fermentation|      724413|Emissions (CO2eq)...|1990|5327231.061|2493671.372|\n",
            "|21797|     5000|World|     5058|Enteric Fermentation|      723113|Emissions (CO2eq)...|1990|5327231.061|2493671.372|\n",
            "|21798|     5000|World|     5059|   Manure Management|        7225|     Emissions (CH4)|1990|5327231.061|  9261.0769|\n",
            "|21799|     5000|World|     5059|   Manure Management|        7230|     Emissions (N2O)|1990|5327231.061|   455.0201|\n",
            "+-----+---------+-----+---------+--------------------+------------+--------------------+----+-----------+-----------+\n",
            "only showing top 5 rows\n",
            "\n"
          ]
        }
      ]
    },
    {
      "cell_type": "code",
      "metadata": {
        "colab": {
          "base_uri": "https://localhost:8080/"
        },
        "id": "zt20reLKMqrk",
        "outputId": "b653a87f-663e-45b3-f63f-f6d5995c1405"
      },
      "source": [
        "# Create the Merged_M5000_Table_df Table DataFrame\n",
        "Merged_M5000_Table_df = Merged_M5000_df.select([\"Area_Code\", \"Area\", \"Item_Code\", \"Item\", \"Element_Code\", \"Element\", \"Year\", \"Population\", \"Emission\"])\n",
        "Merged_M5000_Table_df.show(5)"
      ],
      "execution_count": 7,
      "outputs": [
        {
          "output_type": "stream",
          "name": "stdout",
          "text": [
            "+---------+-----+---------+--------------------+------------+--------------------+----+-----------+-----------+\n",
            "|Area_Code| Area|Item_Code|                Item|Element_Code|             Element|Year| Population|   Emission|\n",
            "+---------+-----+---------+--------------------+------------+--------------------+----+-----------+-----------+\n",
            "|     5000|World|     5058|Enteric Fermentation|        7225|     Emissions (CH4)|1990|5327231.061| 89059.6919|\n",
            "|     5000|World|     5058|Enteric Fermentation|      724413|Emissions (CO2eq)...|1990|5327231.061|2493671.372|\n",
            "|     5000|World|     5058|Enteric Fermentation|      723113|Emissions (CO2eq)...|1990|5327231.061|2493671.372|\n",
            "|     5000|World|     5059|   Manure Management|        7225|     Emissions (CH4)|1990|5327231.061|  9261.0769|\n",
            "|     5000|World|     5059|   Manure Management|        7230|     Emissions (N2O)|1990|5327231.061|   455.0201|\n",
            "+---------+-----+---------+--------------------+------------+--------------------+----+-----------+-----------+\n",
            "only showing top 5 rows\n",
            "\n"
          ]
        }
      ]
    },
    {
      "cell_type": "code",
      "metadata": {
        "colab": {
          "base_uri": "https://localhost:8080/"
        },
        "id": "oTkmKQdNNHZS",
        "outputId": "fb6b2be6-32eb-452c-ef15-e4d54eee9eb0"
      },
      "source": [
        "from pyspark import SparkFiles\n",
        "l_url = \"https://dataanalyticsproject.s3.us-east-2.amazonaws.com/Merged_L5000.csv\"\n",
        "spark.sparkContext.addFile(l_url)\n",
        "Merged_L5000_df = spark.read.option(\"encoding\", \"UTF-8\").csv(SparkFiles.get(\"\"), sep=\",\", header=True, inferSchema=True)\n",
        "Merged_L5000_df .show(5)"
      ],
      "execution_count": 8,
      "outputs": [
        {
          "output_type": "stream",
          "name": "stdout",
          "text": [
            "+---+---------+-----------+---------+--------------------+------------+--------------------+----+----------+---------+\n",
            "|_c0|Area_Code|       Area|Item_Code|                Item|Element_Code|             Element|Year|Population| Emission|\n",
            "+---+---------+-----------+---------+--------------------+------------+--------------------+----+----------+---------+\n",
            "|  0|        2|Afghanistan|     5058|Enteric Fermentation|        7225|     Emissions (CH4)|1990| 12412.308| 178.4682|\n",
            "|  1|        2|Afghanistan|     5058|Enteric Fermentation|      724413|Emissions (CO2eq)...|1990| 12412.308|4997.1108|\n",
            "|  2|        2|Afghanistan|     5058|Enteric Fermentation|      723113|Emissions (CO2eq)...|1990| 12412.308|4997.1108|\n",
            "|  3|        2|Afghanistan|     5059|   Manure Management|        7225|     Emissions (CH4)|1990| 12412.308|   8.5165|\n",
            "|  4|        2|Afghanistan|     5059|   Manure Management|        7230|     Emissions (N2O)|1990| 12412.308|   0.3046|\n",
            "+---+---------+-----------+---------+--------------------+------------+--------------------+----+----------+---------+\n",
            "only showing top 5 rows\n",
            "\n"
          ]
        }
      ]
    },
    {
      "cell_type": "code",
      "metadata": {
        "colab": {
          "base_uri": "https://localhost:8080/"
        },
        "id": "e43LZWTANWbk",
        "outputId": "4657dd6d-1d20-4160-8a7d-b2de7c457951"
      },
      "source": [
        "# Create the Merged_L5000_Table_df Table DataFrame\n",
        "Merged_L5000_Table_df = Merged_L5000_df.select([\"Area_Code\", \"Area\", \"Item_Code\", \"Item\", \"Element_Code\", \"Element\", \"Year\", \"Population\", \"Emission\"])\n",
        "Merged_L5000_Table_df.show(5)"
      ],
      "execution_count": 9,
      "outputs": [
        {
          "output_type": "stream",
          "name": "stdout",
          "text": [
            "+---------+-----------+---------+--------------------+------------+--------------------+----+----------+---------+\n",
            "|Area_Code|       Area|Item_Code|                Item|Element_Code|             Element|Year|Population| Emission|\n",
            "+---------+-----------+---------+--------------------+------------+--------------------+----+----------+---------+\n",
            "|        2|Afghanistan|     5058|Enteric Fermentation|        7225|     Emissions (CH4)|1990| 12412.308| 178.4682|\n",
            "|        2|Afghanistan|     5058|Enteric Fermentation|      724413|Emissions (CO2eq)...|1990| 12412.308|4997.1108|\n",
            "|        2|Afghanistan|     5058|Enteric Fermentation|      723113|Emissions (CO2eq)...|1990| 12412.308|4997.1108|\n",
            "|        2|Afghanistan|     5059|   Manure Management|        7225|     Emissions (CH4)|1990| 12412.308|   8.5165|\n",
            "|        2|Afghanistan|     5059|   Manure Management|        7230|     Emissions (N2O)|1990| 12412.308|   0.3046|\n",
            "+---------+-----------+---------+--------------------+------------+--------------------+----+----------+---------+\n",
            "only showing top 5 rows\n",
            "\n"
          ]
        }
      ]
    },
    {
      "cell_type": "markdown",
      "metadata": {
        "id": "0kxkEpu6N1xV"
      },
      "source": [
        "**Connect to the AWS RDS instance and write each DataFrame to its table**"
      ]
    },
    {
      "cell_type": "code",
      "metadata": {
        "id": "eOD_kzIxN7x6"
      },
      "source": [
        "# Configure settings for RDS\n",
        "mode = \"append\"\n",
        "jdbc_url=\"jdbc:postgresql://dataanalyticsproject.ct0b4s5yoxb0.us-east-2.rds.amazonaws.com:5432/postgres\"\n",
        "config = {\"user\":\"postgres\", \n",
        "          \"password\": \"finalproject\", \n",
        "          \"driver\":\"org.postgresql.Driver\"}"
      ],
      "execution_count": 10,
      "outputs": []
    },
    {
      "cell_type": "code",
      "metadata": {
        "id": "RMDksYz1OFgJ"
      },
      "source": [
        "# Write Merged_M5000_Table_df to table in RDS\n",
        "Merged_M5000_Table_df.write.jdbc(url=jdbc_url, table='Merged_M5000', mode=mode, properties=config)"
      ],
      "execution_count": 11,
      "outputs": []
    },
    {
      "cell_type": "code",
      "metadata": {
        "id": "_-Hjry49OKSP"
      },
      "source": [
        "# Write Merged_L5000_Table_df to table in RDS\n",
        "Merged_L5000_Table_df.write.jdbc(url=jdbc_url, table='Merged_L5000', mode=mode, properties=config)"
      ],
      "execution_count": 12,
      "outputs": []
    }
  ]
}